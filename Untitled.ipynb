{
 "cells": [
  {
   "cell_type": "code",
   "execution_count": 2,
   "metadata": {
    "collapsed": true
   },
   "outputs": [],
   "source": [
    "%matplotlib inline\n",
    "import numpy as np\n",
    "import torch\n",
    "import torch.nn as nn\n",
    "import torch.nn.functional as F\n",
    "import math, copy, time\n",
    "import matplotlib.pyplot as plt\n",
    "from torch.nn.utils.rnn import pack_padded_sequence, pad_packed_sequence\n",
    "from IPython.core.debugger import set_trace\n",
    "\n",
    "seed = 42\n",
    "np.random.seed(seed)\n",
    "torch.manual_seed(seed)\n",
    "torch.cuda.manual_seed(seed)"
   ]
  },
  {
   "cell_type": "code",
   "execution_count": 3,
   "metadata": {
    "collapsed": true
   },
   "outputs": [],
   "source": [
    "class EncoderDecoder(nn.Module):\n",
    "    def __init__(self, encoder, decoder, src_embed, trg_embed, generator):\n",
    "        super(EncoderDecoder, self).__init__()\n",
    "        self.encoder = encoder\n",
    "        self.decoder = decoder\n",
    "        self.src_embed = src_embed\n",
    "        self.trg_embed = trg_embed\n",
    "        self.generator = generator\n",
    "        \n",
    "    def forward(self, src, trg, src_mask, trg_mask, src_lengths, trg_lengths):\n",
    "        \"\"\"\n",
    "        maskされたソースとtarget 列　を取り込み、処理する\n",
    "        \"\"\"\n",
    "        encoder_hidden, encoder_final = self.encode(src, src_mask, src_lengths)\n",
    "        return self.decode(encoder_hidden, encoder_final, src_mask, trg, trg_mask)\n",
    "    \n",
    "    def encode(self, src, src_mask, src_lengths):\n",
    "        return self.encoder(self.src_embed(src), src_mask, src_lengths)\n",
    "    \n",
    "    def decode(self, encoder_hidden, encoder_final, src_mask, trg, trg_mask, decoder_hidden=None):\n",
    "        return self.decoder(self.trg_embed(trg), encoder_hidden,\n",
    "                            encoder_final, src_mask, trg_mask, hidden=decoder_hidden)\n",
    "    "
   ]
  },
  {
   "cell_type": "code",
   "execution_count": 4,
   "metadata": {
    "collapsed": true
   },
   "outputs": [],
   "source": [
    "class Generator(nn.Module):\n",
    "    \"\"\"\n",
    "    linear model と softmax を定義する\n",
    "    fainal output の次元はtarget vocabulary のsize\n",
    "    \"\"\"\n",
    "    def __init__(self, hidden_size, vocab_size):\n",
    "        super(Generator, self).__init__()\n",
    "        self.proj = nn.Linear(hidden_size, vocab_size, bias=False)\n",
    "        \n",
    "    def forward(self, x):\n",
    "        return F.log_softmax(self.proj(x), dim=-1)"
   ]
  },
  {
   "cell_type": "code",
   "execution_count": 116,
   "metadata": {},
   "outputs": [
    {
     "name": "stdout",
     "output_type": "stream",
     "text": [
      "input tensor([[[1., 1., 1.]],\n",
      "\n",
      "        [[1., 1., 1.]],\n",
      "\n",
      "        [[1., 1., 1.]],\n",
      "\n",
      "        [[1., 1., 1.]]]) \n",
      "\n",
      "h0 tensor([[[1., 1.]]]) \n",
      "\n",
      "output tensor([[[ 0.5590,  0.5867]],\n",
      "\n",
      "        [[ 0.3047,  0.2859]],\n",
      "\n",
      "        [[ 0.1633,  0.0594]],\n",
      "\n",
      "        [[ 0.0891, -0.1123]]], grad_fn=<CatBackward>)\n",
      "hidden state tensor([[[ 0.0891, -0.1123]]], grad_fn=<ViewBackward>)\n",
      "Parameter containing:\n",
      "tensor([[-0.4952,  0.3931],\n",
      "        [ 0.3200, -0.6266],\n",
      "        [-0.1452,  0.1790],\n",
      "        [-0.6256,  0.6094],\n",
      "        [-0.0754, -0.2872],\n",
      "        [ 0.0787,  0.2555]], requires_grad=True)\n",
      "Parameter containing:\n",
      "tensor([[-0.2072,  0.7001, -0.0920],\n",
      "        [ 0.5335,  0.0811,  0.4640],\n",
      "        [-0.3039,  0.6947,  0.1492],\n",
      "        [-0.1448,  0.5437,  0.3487],\n",
      "        [-0.4753, -0.0508,  0.5068],\n",
      "        [ 0.1762, -0.2236, -0.4604]], requires_grad=True)\n"
     ]
    }
   ],
   "source": [
    "hidden_size=2\n",
    "gru = nn.GRU(input_size=3, hidden_size=hidden_size, num_layers=1,bias=False)\n",
    "input = torch.ones(4,1,3)\n",
    "h0=torch.ones(1,1,hidden_size)\n",
    "print('input',input,'\\n')\n",
    "print('h0', h0, '\\n')\n",
    "print('output',gru(input, h0)[0])\n",
    "print('hidden state',gru(input, h0)[1])\n",
    "print(gru.weight_hh_l0)\n",
    "print(gru.weight_ih_l0)"
   ]
  },
  {
   "cell_type": "code",
   "execution_count": 126,
   "metadata": {},
   "outputs": [
    {
     "name": "stdout",
     "output_type": "stream",
     "text": [
      "tensor([-0.2072,  0.7001, -0.0920], grad_fn=<SelectBackward>)\n",
      "tensor([[[1.],\n",
      "         [1.]]])\n",
      "tensor([-0.2072,  0.7001, -0.0920], grad_fn=<SelectBackward>)\n"
     ]
    }
   ],
   "source": [
    "print(gru.weight_ih_l0[0])\n",
    "print(h0)\n",
    "print(gru.weight_ih_l0[0])"
   ]
  },
  {
   "cell_type": "code",
   "execution_count": 125,
   "metadata": {},
   "outputs": [
    {
     "name": "stdout",
     "output_type": "stream",
     "text": [
      "tensor([[[0.5565, 0.5565, 0.5565],\n",
      "         [0.4439, 0.4439, 0.4439],\n",
      "         [0.5393, 0.5393, 0.5393]]], grad_fn=<SigmoidBackward>)\n",
      "tensor([[[-0.2817, -0.2817, -0.2817],\n",
      "         [ 0.6147,  0.6147,  0.6147],\n",
      "         [ 0.1630,  0.1630,  0.1630]]], grad_fn=<TanhBackward>)\n",
      "tensor([[[1.],\n",
      "         [1.]]])\n"
     ]
    }
   ],
   "source": [
    "# x_1 = input[0].view(1,1,3)\n",
    "# w_ir = gru.weight_ih_l0[0].view(1,3,1)\n",
    "# w_hr = gru.weight_hh_l0[0].view(1,1,1)\n",
    "# print(w_ir.shape, w_ir)\n",
    "# print(x_1.shape, x_1)\n",
    "# print(torch.bmm(w_ir,x_1))\n",
    "# print(torch.bmm(w_hr,h0))\n",
    "# x  = torch.bmm(w_ir,x_1) + torch.bmm(w_hr,h0)\n",
    "# print(x)\n",
    "# r_1 = sigmoid(x)\n",
    "# print(r_1)\n",
    "h0=h0.view(1,hidden_size,1)\n",
    "def get_r_1(input,h0,gru):\n",
    "    x_1 = input[0].view(1,1,3)\n",
    "    w_ir = gru.weight_ih_l0[].view(1,3,1)\n",
    "    w_hr = gru.weight_hh_l0[0].view(1,1,hidden_size)\n",
    "    x  = torch.bmm(w_ir,x_1) + torch.bmm(w_hr,h0)\n",
    "    return torch.sigmoid(x)\n",
    "r_1 = get_r_1(input, h0,gru)\n",
    "\n",
    "def get_z_1(input, h0, gru):\n",
    "    x_1 = input[0].view(1,1,3)\n",
    "    w_iz = gru.weight_ih_l0[1].view(1,3,1)\n",
    "    w_hz = gru.weight_hh_l0[1].view(1,1,hidden_size)\n",
    "    x  = torch.bmm(w_iz,x_1) + torch.bmm(w_hz,h0)\n",
    "    return torch.sigmoid(x)\n",
    "    \n",
    "z_1 = get_z_1(input,h0,gru)\n",
    "\n",
    "def get_n_1(input, h0,gru, r_1):\n",
    "    x_1 = input[0].view(1,1,3)\n",
    "    w_in = gru.weight_ih_l0[2].view(1,3,1)\n",
    "    w_hn = gru.weight_hh_l0[2].view(1,1,hidden_size)\n",
    "    x = torch.bmm(w_in, x_1)+r_1*torch.bmm(w_hn,h0)\n",
    "    return torch.tanh(x)\n",
    "\n",
    "n_1 = get_n_1(input,h0,gru,r_1)\n",
    "\n",
    "print(z_1)\n",
    "print(n_1)\n",
    "print(h0)\n",
    "# def get_h_1(z_1, n_1, h0):\n",
    "#     return torch.bmm((1-z_1), n_1)+z_1*h0\n",
    "# h_1 = get_h_1(z_1,n_1,h0)\n",
    "# print(h_1)"
   ]
  },
  {
   "cell_type": "code",
   "execution_count": null,
   "metadata": {
    "collapsed": true
   },
   "outputs": [],
   "source": []
  },
  {
   "cell_type": "code",
   "execution_count": 35,
   "metadata": {
    "collapsed": true
   },
   "outputs": [],
   "source": [
    "class Encoder(nn.Module):\n",
    "    def __init__(self, input_size, hidden_size, num_layers=1, dropout=0.):\n",
    "        super(Encoder, self).__init__()\n",
    "        self.num_layers = num_layers\n",
    "        self.rnn = nn.GRU(input_size, hidden_size, num_layers, batch_first=True, dopout=dropout)\n",
    "        \n",
    "    def forward(self, x, mask, lengths):\n",
    "        \"\"\"\n",
    "        embeddings x に bidirectional GRU を適用する\n",
    "        input の mini-batch x は lengthでソートされる必要がある\n",
    "        x は [batch, time, dim] をもつ\n",
    "        \n",
    "        pytorch では　pack_padded_sequence, pad_packed_sequence という\n",
    "        ２つの関数がmask と padding を請け負ってくれる\n",
    "        pack_padded_sequence -> padされた系列データの各バッチを時刻が早い順にpackしてくれる\n",
    "        \"\"\"\n",
    "        packed = pack_padded_sequence(x, lengths, batch_first=True)\n",
    "        output, final = self.rnn(packed)\n",
    "        output, _ = pad_packed_sequence(output, batch_first=True)\n",
    "        \n",
    "        # 双方向のfinal hidden statesを結合させる\n",
    "        \n",
    "        fwd_final = final[0:final.size(0):2]\n",
    "        bwd_final = final[1:final.size(0):2]\n",
    "        final = torch.cat([fwd_final, bwd_final], dim=2) #[num_layers, batch, 2*dim]\n",
    "        return output, final"
   ]
  },
  {
   "cell_type": "code",
   "execution_count": 147,
   "metadata": {},
   "outputs": [
    {
     "name": "stdout",
     "output_type": "stream",
     "text": [
      "tensor([[[1],\n",
      "         [2],\n",
      "         [3]],\n",
      "\n",
      "        [[1],\n",
      "         [0],\n",
      "         [0]]])\n",
      "PackedSequence(data=tensor([[1],\n",
      "        [1],\n",
      "        [2],\n",
      "        [3]]), batch_sizes=tensor([2, 1, 1]))\n"
     ]
    }
   ],
   "source": [
    "x = torch.LongTensor([[1,2,3], [1,0,0]]).view(2, 3, 1)\n",
    "print(x)\n",
    "lens = [3, 1]\n",
    "y = pack_padded_sequence(x, lens, batch_first=True)\n",
    "print(y)\n"
   ]
  },
  {
   "cell_type": "code",
   "execution_count": 146,
   "metadata": {},
   "outputs": [
    {
     "data": {
      "image/png": "[encoded data removed]",
      "text/plain": [
       "<matplotlib.figure.Figure at 0x116783780>"
      ]
     },
     "metadata": {},
     "output_type": "display_data"
    },
    {
     "name": "stdout",
     "output_type": "stream",
     "text": [
      "PackedSequence(data=tensor([[1., 1., 1., 1.],\n",
      "        [1., 1., 1., 1.],\n",
      "        [1., 1., 1., 1.],\n",
      "        [2., 2., 2., 2.],\n",
      "        [2., 2., 2., 2.],\n",
      "        [2., 2., 2., 2.],\n",
      "        [3., 3., 3., 3.],\n",
      "        [3., 3., 3., 3.],\n",
      "        [3., 3., 3., 3.]]), batch_sizes=tensor([3, 3, 3]))\n",
      "[[ 1.  1.  1.  1.]\n",
      " [ 2.  2.  2.  2.]\n",
      " [ 3.  3.  3.  3.]\n",
      " [ 1.  1.  1.  1.]\n",
      " [ 2.  2.  2.  2.]\n",
      " [ 3.  3.  3.  3.]\n",
      " [ 1.  1.  1.  1.]\n",
      " [ 2.  2.  2.  2.]\n",
      " [ 3.  3.  3.  3.]]\n"
     ]
    }
   ],
   "source": [
    "import torch\n",
    "import numpy as np\n",
    "import matplotlib.pyplot as plt\n",
    "from torch.nn.utils.rnn import pack_padded_sequence, pad_packed_sequence\n",
    "from torch.autograd import Variable\n",
    "\n",
    "# Get data\n",
    "single_sample = np.array([[1, 2, 3, 0, 0], [1, 2, 3, 0, 0], [1, 2, 3, 0, 0], [1, 2, 3, 0, 0]], dtype='float32')  # (features, max_len)\n",
    "single_sample = single_sample.T  # (max_len, features)\n",
    "batch = np.array([single_sample] * 3)  # (batch_size, max_len, features)\n",
    "lengths = np.array([3, 3, 3])\n",
    "\n",
    "# Move to pytorch\n",
    "batch_pt = Variable(torch.from_numpy(batch))\n",
    "\n",
    "# Pack the sequence\n",
    "xp = pack_padded_sequence(batch_pt, lengths, batch_first=True)\n",
    "\n",
    "# Expected output of xp.data\n",
    "xp_exp = np.array([single_sample[:3, :]] * 3)  # (batch_size, max_len, features)\n",
    "xp_exp = np.reshape(xp_exp, (9, -1))\n",
    "\n",
    "# Plot\n",
    "fig, (ax1, ax2, ax3) = plt.subplots(3)\n",
    "# ax1\n",
    "im1 = ax1.imshow(single_sample.T, aspect='auto', interpolation='none', vmin=0, vmax=3)\n",
    "fig.colorbar(im1, ax=ax1)\n",
    "ax1.set_title('Batch contains three of these single samples')\n",
    "ax1.set_xlabel('Time')\n",
    "ax1.set_ylabel('Features')\n",
    "# ax2\n",
    "im2 = ax2.imshow(xp.data.data.numpy().T, aspect='auto', interpolation='none', vmin=0, vmax=3)\n",
    "fig.colorbar(im2, ax=ax2)\n",
    "ax2.set_title('Pytorch packed_sequence.data')\n",
    "ax2.set_xlabel('Time')\n",
    "ax2.set_ylabel('Features')\n",
    "# ax3\n",
    "im3 = ax3.imshow(xp_exp.T, aspect='auto', interpolation='none', vmin=0, vmax=3)\n",
    "fig.colorbar(im3, ax=ax3)\n",
    "ax3.set_title('Expected packed_sequence.data')\n",
    "ax3.set_xlabel('Time')\n",
    "ax3.set_ylabel('Features')\n",
    "# Other\n",
    "plt.tight_layout()\n",
    "plt.show()\n",
    "print(xp)\n",
    "print(xp_exp)"
   ]
  },
  {
   "cell_type": "code",
   "execution_count": 17,
   "metadata": {},
   "outputs": [
    {
     "data": {
      "text/plain": [
       "tensor([[-1.4790,  0.4323, -0.1250,  0.7821,  0.5635,  1.8582],\n",
       "        [ 1.0441, -0.8638,  1.3059,  0.2466, -1.9776,  0.0179],\n",
       "        [-1.4129, -1.8791, -0.1798,  0.7904, -0.1222, -0.7470],\n",
       "        [ 1.7093,  0.0579,  0.5230,  0.9717, -0.2779, -0.6116],\n",
       "        [-0.5572, -0.9683,  0.8713, -0.0956,  0.3463, -0.5402],\n",
       "        [ 0.8569, -0.6721,  1.0682, -0.2527, -0.1882, -0.7712]])"
      ]
     },
     "execution_count": 17,
     "metadata": {},
     "output_type": "execute_result"
    }
   ],
   "source": []
  },
  {
   "cell_type": "code",
   "execution_count": null,
   "metadata": {},
   "outputs": [],
   "source": []
  },
  {
   "cell_type": "code",
   "execution_count": null,
   "metadata": {},
   "outputs": [],
   "source": []
  },
  {
   "cell_type": "code",
   "execution_count": null,
   "metadata": {
    "collapsed": true
   },
   "outputs": [],
   "source": []
  },
  {
   "cell_type": "code",
   "execution_count": null,
   "metadata": {
    "collapsed": true
   },
   "outputs": [],
   "source": []
  }
 ],
 "metadata": {
  "kernelspec": {
   "display_name": "Python 3",
   "language": "python",
   "name": "python3"
  },
  "language_info": {
   "codemirror_mode": {
    "name": "ipython",
    "version": 3
   },
   "file_extension": ".py",
   "mimetype": "text/x-python",
   "name": "python",
   "nbconvert_exporter": "python",
   "pygments_lexer": "ipython3",
   "version": "3.6.3"
  }
 },
 "nbformat": 4,
 "nbformat_minor": 2
}
